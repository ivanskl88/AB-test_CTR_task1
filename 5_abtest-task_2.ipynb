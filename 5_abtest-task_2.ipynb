{
 "cells": [
  {
   "cell_type": "markdown",
   "id": "222c177d-a1c0-428b-84ad-476b32a652c1",
   "metadata": {},
   "source": [
    "# 5 Урок: A/В-тесты\n",
    "\n",
    "---"
   ]
  },
  {
   "cell_type": "markdown",
   "id": "acb40712-dff7-4912-a559-bdfc9631c1af",
   "metadata": {
    "tags": []
   },
   "source": [
    "## Задание №2: Проведение A/B-теста\n",
    "\n",
    "> **Описание:** \n",
    ">\n",
    "> Пришло время **проанализировать результаты эксперимента**, который мы провели вместе с командой дата сайентистов. Эксперимент **проходил с 2023-01-31 по 2023-02-06 \n",
    "> включительно**. Для эксперимента были задействованы 2 и 1 группы. \n",
    "> \n",
    "> **В группе 2** был использован **один из новых алгоритмов** рекомендации постов, **группа 1 использовалась в качестве контроля**. \n",
    "> \n",
    "> Основная гипотеза заключается в том, что **новый алгоритм во 2-й группе приведет к увеличению CTR**. \n",
    "\n",
    "\n",
    ">**Задача:**\n",
    ">\n",
    ">проанализировать данные АB-теста, самостоятельнно выбрать метод анализа и сравнить CTR в двух группах.\n",
    "\n"
   ]
  },
  {
   "cell_type": "markdown",
   "id": "b78f9bd5-ee3c-41b4-a853-b6b03a97977e",
   "metadata": {
    "jp-MarkdownHeadingCollapsed": true,
    "tags": []
   },
   "source": [
    "---\n",
    "## Установим необходимые библиотеки и подключение к БД"
   ]
  },
  {
   "cell_type": "code",
   "execution_count": 1,
   "id": "6fb1cdcf-cc63-41e2-bfc9-6d6d01979536",
   "metadata": {},
   "outputs": [],
   "source": [
    "# установим необходимые библиотеки\n",
    "\n",
    "import pandas as pd\n",
    "import numpy as np\n",
    "import pandahouse as ph\n",
    "from scipy import stats as st\n",
    "import matplotlib.pyplot as plt\n",
    "import seaborn as sns"
   ]
  },
  {
   "cell_type": "code",
   "execution_count": 2,
   "id": "87afd4b7-3a07-42d6-95b4-a2d8f3aa21bd",
   "metadata": {},
   "outputs": [],
   "source": [
    "# установим фиксированные размер для будущих графиков\n",
    "\n",
    "sns.set(rc={'figure.figsize':(12,9)})"
   ]
  },
  {
   "cell_type": "code",
   "execution_count": 3,
   "id": "dd8338b6-d230-477e-8ce5-aae0f22fead8",
   "metadata": {},
   "outputs": [],
   "source": [
    "# установим соединение с БД\n",
    "\n",
    "con = {\n",
    "    'host': '*****',\n",
    "    'password': '*****',\n",
    "    'user': '*****',\n",
    "    'database': '*****'\n",
    "}"
   ]
  },
  {
   "cell_type": "markdown",
   "id": "c879f9b3-6a56-4674-ac29-012be7dbdac8",
   "metadata": {
    "jp-MarkdownHeadingCollapsed": true,
    "tags": []
   },
   "source": [
    "## Напишем запрос и вытащим наши данные"
   ]
  },
  {
   "cell_type": "code",
   "execution_count": 4,
   "id": "e6a6659a-4aeb-4676-99b8-f050fe7031ef",
   "metadata": {},
   "outputs": [],
   "source": [
    "## напишем запрос\n",
    "\n",
    "query = '''\n",
    "\n",
    "SELECT exp_group,\n",
    "       user_id,\n",
    "       sum(action = 'view') AS view,\n",
    "       sum(action = 'like') AS like,\n",
    "       like / view AS ctr\n",
    "FROM simulator_20230220.feed_actions       \n",
    "WHERE (toDate(time) >= '2022-01-31' AND toDate(time) <='2023-02-06')\n",
    "      AND exp_group IN (1,2)\n",
    "GROUP BY exp_group, user_id\n",
    "\n",
    "\n",
    "'''"
   ]
  },
  {
   "cell_type": "code",
   "execution_count": 5,
   "id": "f34dd2e1-d2d5-4f4f-84b5-a3a277dcf044",
   "metadata": {},
   "outputs": [],
   "source": [
    "# поместим данные в переменную df\n",
    "\n",
    "df = ph.read_clickhouse(query, connection=con)"
   ]
  },
  {
   "cell_type": "code",
   "execution_count": 6,
   "id": "762c3442-0264-4389-a138-3d42163a27d2",
   "metadata": {},
   "outputs": [
    {
     "data": {
      "text/html": [
       "<div>\n",
       "<style scoped>\n",
       "    .dataframe tbody tr th:only-of-type {\n",
       "        vertical-align: middle;\n",
       "    }\n",
       "\n",
       "    .dataframe tbody tr th {\n",
       "        vertical-align: top;\n",
       "    }\n",
       "\n",
       "    .dataframe thead th {\n",
       "        text-align: right;\n",
       "    }\n",
       "</style>\n",
       "<table border=\"1\" class=\"dataframe\">\n",
       "  <thead>\n",
       "    <tr style=\"text-align: right;\">\n",
       "      <th></th>\n",
       "      <th>exp_group</th>\n",
       "      <th>user_id</th>\n",
       "      <th>view</th>\n",
       "      <th>like</th>\n",
       "      <th>ctr</th>\n",
       "    </tr>\n",
       "  </thead>\n",
       "  <tbody>\n",
       "    <tr>\n",
       "      <th>0</th>\n",
       "      <td>1</td>\n",
       "      <td>109963</td>\n",
       "      <td>272</td>\n",
       "      <td>42</td>\n",
       "      <td>0.154412</td>\n",
       "    </tr>\n",
       "    <tr>\n",
       "      <th>1</th>\n",
       "      <td>1</td>\n",
       "      <td>26117</td>\n",
       "      <td>176</td>\n",
       "      <td>45</td>\n",
       "      <td>0.255682</td>\n",
       "    </tr>\n",
       "    <tr>\n",
       "      <th>2</th>\n",
       "      <td>1</td>\n",
       "      <td>138232</td>\n",
       "      <td>73</td>\n",
       "      <td>18</td>\n",
       "      <td>0.246575</td>\n",
       "    </tr>\n",
       "    <tr>\n",
       "      <th>3</th>\n",
       "      <td>1</td>\n",
       "      <td>26295</td>\n",
       "      <td>131</td>\n",
       "      <td>37</td>\n",
       "      <td>0.282443</td>\n",
       "    </tr>\n",
       "    <tr>\n",
       "      <th>4</th>\n",
       "      <td>1</td>\n",
       "      <td>18392</td>\n",
       "      <td>134</td>\n",
       "      <td>25</td>\n",
       "      <td>0.186567</td>\n",
       "    </tr>\n",
       "  </tbody>\n",
       "</table>\n",
       "</div>"
      ],
      "text/plain": [
       "   exp_group  user_id  view  like       ctr\n",
       "0          1   109963   272    42  0.154412\n",
       "1          1    26117   176    45  0.255682\n",
       "2          1   138232    73    18  0.246575\n",
       "3          1    26295   131    37  0.282443\n",
       "4          1    18392   134    25  0.186567"
      ]
     },
     "execution_count": 6,
     "metadata": {},
     "output_type": "execute_result"
    }
   ],
   "source": [
    "# выведем на экран\n",
    "\n",
    "df.head()"
   ]
  },
  {
   "cell_type": "code",
   "execution_count": 7,
   "id": "b35a2f4c-e52e-4a10-b7b6-74de67ccddea",
   "metadata": {},
   "outputs": [
    {
     "data": {
      "text/html": [
       "<div>\n",
       "<style scoped>\n",
       "    .dataframe tbody tr th:only-of-type {\n",
       "        vertical-align: middle;\n",
       "    }\n",
       "\n",
       "    .dataframe tbody tr th {\n",
       "        vertical-align: top;\n",
       "    }\n",
       "\n",
       "    .dataframe thead th {\n",
       "        text-align: right;\n",
       "    }\n",
       "</style>\n",
       "<table border=\"1\" class=\"dataframe\">\n",
       "  <thead>\n",
       "    <tr style=\"text-align: right;\">\n",
       "      <th></th>\n",
       "      <th>user_id</th>\n",
       "      <th>view</th>\n",
       "      <th>like</th>\n",
       "      <th>ctr</th>\n",
       "    </tr>\n",
       "    <tr>\n",
       "      <th>exp_group</th>\n",
       "      <th></th>\n",
       "      <th></th>\n",
       "      <th></th>\n",
       "      <th></th>\n",
       "    </tr>\n",
       "  </thead>\n",
       "  <tbody>\n",
       "    <tr>\n",
       "      <th>1</th>\n",
       "      <td>13123</td>\n",
       "      <td>13123</td>\n",
       "      <td>13123</td>\n",
       "      <td>13123</td>\n",
       "    </tr>\n",
       "    <tr>\n",
       "      <th>2</th>\n",
       "      <td>12987</td>\n",
       "      <td>12987</td>\n",
       "      <td>12987</td>\n",
       "      <td>12987</td>\n",
       "    </tr>\n",
       "  </tbody>\n",
       "</table>\n",
       "</div>"
      ],
      "text/plain": [
       "           user_id   view   like    ctr\n",
       "exp_group                              \n",
       "1            13123  13123  13123  13123\n",
       "2            12987  12987  12987  12987"
      ]
     },
     "execution_count": 7,
     "metadata": {},
     "output_type": "execute_result"
    }
   ],
   "source": [
    "# сравник количество участников\n",
    "\n",
    "df.groupby('exp_group').count()"
   ]
  },
  {
   "cell_type": "markdown",
   "id": "9ed3b932-fb5f-462d-9171-b48a5a05a7f2",
   "metadata": {},
   "source": [
    "Группы примерно равны"
   ]
  },
  {
   "cell_type": "code",
   "execution_count": 8,
   "id": "16da83fb-cdc5-4111-97e2-27d0bede791b",
   "metadata": {},
   "outputs": [
    {
     "data": {
      "image/png": "[encoded data removed]",
      "text/plain": [
       "<Figure size 864x648 with 1 Axes>"
      ]
     },
     "metadata": {},
     "output_type": "display_data"
    }
   ],
   "source": [
    "# посмотрим на распределение CTR в наших данных\n",
    "\n",
    "groups = sns.histplot(data=df,\n",
    "                      x='ctr', \n",
    "                      hue='exp_group', \n",
    "                      alpha=.5, \n",
    "                      palette=['g', 'r'])\n",
    "\n",
    "groups.set_title('Распределение CTR в группах');"
   ]
  },
  {
   "cell_type": "code",
   "execution_count": 9,
   "id": "ab68589d-40bc-4753-8e64-88e07e868dd1",
   "metadata": {},
   "outputs": [
    {
     "data": {
      "text/plain": [
       "(0.21184502749296094, 0.2103767965344893)"
      ]
     },
     "execution_count": 9,
     "metadata": {},
     "output_type": "execute_result"
    }
   ],
   "source": [
    "# посмотрим на средний CTR в группах\n",
    "\n",
    "df[df.exp_group == 1]['ctr'].mean(), df[df.exp_group == 2]['ctr'].mean()"
   ]
  },
  {
   "cell_type": "markdown",
   "id": "2a176e0b-b3ca-40d9-8af3-af7edf372801",
   "metadata": {},
   "source": [
    "Мы видим, что наши распределения смещены относительно друг друга, а так же на графике видны выбросы."
   ]
  },
  {
   "cell_type": "markdown",
   "id": "0a5beb42-c009-4ed8-b751-27367dd81a9c",
   "metadata": {
    "jp-MarkdownHeadingCollapsed": true,
    "tags": []
   },
   "source": [
    "## Проверим данные T-тестом\n"
   ]
  },
  {
   "cell_type": "markdown",
   "id": "6438ab25-9721-4eb1-8d62-7b0ca8debecf",
   "metadata": {},
   "source": [
    "**Гипотеза:**\n",
    "\n",
    "**Нулевая гипотеза** H0: μ1=μ2\n",
    "\n",
    "**Альтернативная гипотеза** H1: μ1 != μ2\n"
   ]
  },
  {
   "cell_type": "code",
   "execution_count": 10,
   "id": "05c6e048-dad1-43be-9ca3-7b606e6dc87a",
   "metadata": {},
   "outputs": [
    {
     "name": "stdout",
     "output_type": "stream",
     "text": [
      "Не получилост отвергнуть нулевую гипотезу. Мы не обнаружили статистически значимую разницу. \n",
      "Ttest_indResult(statistic=1.4985058750933717, pvalue=0.13401523012431005)\n"
     ]
    }
   ],
   "source": [
    "# возьмем альфа в 5%\n",
    "\n",
    "alpha = 0.05\n",
    "\n",
    "result = st.ttest_ind(df[df.exp_group == 1]['ctr'], df[df.exp_group == 2]['ctr'], equal_var=False)\n",
    "\n",
    "if result.pvalue > alpha:\n",
    "    print('Не получилост отвергнуть нулевую гипотезу. Мы не обнаружили статистически значимую разницу. ')\n",
    "else:\n",
    "    print('Отвергаем нулевую гипотезу. Между данными есть статистически значимая разница')\n",
    "    \n",
    "print(result)\n"
   ]
  },
  {
   "cell_type": "markdown",
   "id": "a8e150ab-d024-49a7-9231-f4ae7397a675",
   "metadata": {},
   "source": [
    "Думаю, что результаты t-теста не стоит расматривать как достоверные. В наших данных, как мы могли ранее наблюдать, есть скошенность в положительную сторону. Причиной могут быть выбросы, которые могут негативно влиять на результаты теста.\n"
   ]
  },
  {
   "cell_type": "markdown",
   "id": "b16a38ae-747f-4d10-b969-518db0838163",
   "metadata": {
    "jp-MarkdownHeadingCollapsed": true,
    "tags": []
   },
   "source": [
    "## Проверим данные тестом Манна-Уитни"
   ]
  },
  {
   "cell_type": "markdown",
   "id": "94af6b1a-4a32-4a1d-b90e-05433c5e5a84",
   "metadata": {},
   "source": [
    "**Нулевая гипотеза:** P(X>Y)=P(Y>X) или P(X>Y)=P(Y>X)\n",
    "\n",
    "**Альтернативная гипотеза:** P(X>Y) != P(Y>X) или P(X>Y) != P(Y>X)"
   ]
  },
  {
   "cell_type": "code",
   "execution_count": 11,
   "id": "9b1cf9cf-3ac7-44e7-9ace-c46b4e31982e",
   "metadata": {},
   "outputs": [
    {
     "name": "stdout",
     "output_type": "stream",
     "text": [
      "Отвергаем нулевую гипотезу. Между данными есть статистически значимая разница\n",
      "MannwhitneyuResult(statistic=91250068.0, pvalue=3.702830712404751e-23)\n"
     ]
    }
   ],
   "source": [
    "# альфа таже\n",
    "# запустим тест\n",
    "\n",
    "result = st.mannwhitneyu(df[df.exp_group == 1]['ctr'], df[df.exp_group == 2]['ctr'])\n",
    "\n",
    "if result.pvalue > alpha:\n",
    "    print('Не получилост отвергнуть нулевую гипотезу. Мы не обнаружили статистически значимую разницу. ')\n",
    "else:\n",
    "    print('Отвергаем нулевую гипотезу. Между данными есть статистически значимая разница')\n",
    "    \n",
    "print(result)\n"
   ]
  },
  {
   "cell_type": "code",
   "execution_count": 12,
   "id": "a38a08ab-4c6b-4ab0-95eb-6bf886479461",
   "metadata": {},
   "outputs": [],
   "source": [
    "# давайте на всякий случай, из-за сложности формулировки в нулевой гипотезе проверим наш тест\n",
    "\n",
    "# согласно нулевой гипотезе, веротность того, что CTR из выборки 1 в 50% случаев будет больше CTR из выборки 2\n",
    "A_B_groups = 0\n",
    "\n",
    "for _ in range(10000):\n",
    "    A_B_groups += df[df.exp_group == 1]['ctr'].sample().values[0] > df[df.exp_group == 2]['ctr'].sample().values[0]"
   ]
  },
  {
   "cell_type": "code",
   "execution_count": 13,
   "id": "2a27659e-119c-49e5-b514-11a4fd0ead20",
   "metadata": {},
   "outputs": [
    {
     "name": "stdout",
     "output_type": "stream",
     "text": [
      "В 53.38% случаев 1 группа > 2 группы. Должно быть 50%\n"
     ]
    }
   ],
   "source": [
    "\n",
    "print(f'В {A_B_groups/100}% случаев 1 группа > 2 группы. Должно быть 50%')    "
   ]
  },
  {
   "cell_type": "markdown",
   "id": "cd4909de-3a6e-4e39-95b8-bdf83e7d161d",
   "metadata": {
    "jp-MarkdownHeadingCollapsed": true,
    "tags": []
   },
   "source": [
    "## Непараметрический бутстреп"
   ]
  },
  {
   "cell_type": "code",
   "execution_count": 14,
   "id": "1d5edad0-a0ff-4afd-8bd2-5b7ae16f2a30",
   "metadata": {},
   "outputs": [],
   "source": [
    "# напишем функцию для расчета глобального CTR в группах\n",
    "\n",
    "def bootstrap(likes1, views1, likes2, views2, n_bootstrap=5000):\n",
    "\n",
    "    poisson_bootstraps1 = st.poisson(1).rvs(\n",
    "        (n_bootstrap, len(likes1))).astype(np.int64)\n",
    "\n",
    "    poisson_bootstraps2 = st.poisson(1).rvs(\n",
    "            (n_bootstrap, len(likes2))).astype(np.int64)\n",
    "    \n",
    "    globalCTR1 = (poisson_bootstraps1*likes1).sum(axis=1)/(poisson_bootstraps1*views1).sum(axis=1)\n",
    "    \n",
    "    globalCTR2 = (poisson_bootstraps2*likes2).sum(axis=1)/(poisson_bootstraps2*views2).sum(axis=1)\n",
    "\n",
    "    return globalCTR1, globalCTR2"
   ]
  },
  {
   "cell_type": "code",
   "execution_count": 15,
   "id": "738528de-ea9a-4f3a-a98f-1127d0c82848",
   "metadata": {},
   "outputs": [],
   "source": [
    "# расчитаем глобальный CTR\n",
    "\n",
    "likes1 = df[df.exp_group == 1].like.to_numpy()\n",
    "views1 = df[df.exp_group == 1].view.to_numpy()\n",
    "likes2 = df[df.exp_group == 2].like.to_numpy()\n",
    "views2 = df[df.exp_group == 2].view.to_numpy()\n",
    "\n",
    "ctr1, ctr2 = bootstrap(likes1, views1, likes2, views2)"
   ]
  },
  {
   "cell_type": "code",
   "execution_count": 16,
   "id": "c685db70-a0b4-49da-854f-3b8c0463da06",
   "metadata": {},
   "outputs": [
    {
     "data": {
      "image/png": "[encoded data removed]",
      "text/plain": [
       "<Figure size 864x648 with 1 Axes>"
      ]
     },
     "metadata": {},
     "output_type": "display_data"
    }
   ],
   "source": [
    "# посмотрим на распределение\n",
    "\n",
    "sns.histplot(ctr1, color='g', alpha=.5)\n",
    "sns.histplot(ctr2, color='r', alpha=.5)\n",
    "plt.title('Распределения глобальных CTR')\n",
    "plt.legend(['A', 'B'])\n",
    "plt.show();"
   ]
  },
  {
   "cell_type": "markdown",
   "id": "9b628867-234c-4ddd-95de-2c835248d50f",
   "metadata": {},
   "source": [
    "Видим, что наши распределения глобальных CTR чуть смещенны относительно друг друга."
   ]
  },
  {
   "cell_type": "code",
   "execution_count": 17,
   "id": "df5319c5-554f-47d6-b084-48fb207472be",
   "metadata": {},
   "outputs": [
    {
     "data": {
      "image/png": "[encoded data removed]",
      "text/plain": [
       "<Figure size 864x648 with 1 Axes>"
      ]
     },
     "metadata": {},
     "output_type": "display_data"
    }
   ],
   "source": [
    "#Разница между глобальными CTR\n",
    "\n",
    "plt.title('Разница между глобальными CTR (B-A)')\n",
    "sns.histplot(ctr2 - ctr1);"
   ]
  },
  {
   "cell_type": "markdown",
   "id": "cb131933-c316-4002-8ab7-74bec18874ff",
   "metadata": {},
   "source": [
    "Глобальный CTR в группе В меньше чем в группе А."
   ]
  },
  {
   "cell_type": "code",
   "execution_count": 22,
   "id": "1d4ac438-b6ea-48fa-9043-d7346fd8b9b9",
   "metadata": {},
   "outputs": [
    {
     "name": "stdout",
     "output_type": "stream",
     "text": [
      "Отвергаем нулевую гипотезу. Между данными есть статистически значимая разница\n",
      "Ttest_indResult(statistic=144.42180766636645, pvalue=0.0)\n"
     ]
    }
   ],
   "source": [
    "# проведем Т-тест\n",
    "\n",
    "result = st.ttest_ind(ctr1, ctr2, equal_var=False)\n",
    "\n",
    "if result.pvalue > alpha:\n",
    "    print('Не получилост отвергнуть нулевую гипотезу. Мы не обнаружили статистически значимую разницу. ')\n",
    "else:\n",
    "    print('Отвергаем нулевую гипотезу. Между данными есть статистически значимая разница')\n",
    "    \n",
    "print(result)"
   ]
  },
  {
   "cell_type": "code",
   "execution_count": 23,
   "id": "d4b82896-2e70-4a6f-8be1-1bfc9d219c07",
   "metadata": {},
   "outputs": [
    {
     "name": "stdout",
     "output_type": "stream",
     "text": [
      "Отвергаем нулевую гипотезу. Между данными есть статистически значимая разница\n",
      "MannwhitneyuResult(statistic=24506377.0, pvalue=0.0)\n"
     ]
    }
   ],
   "source": [
    "# запустим тест Манна-Уитни\n",
    "\n",
    "result = st.mannwhitneyu(ctr1, ctr2)\n",
    "\n",
    "if result.pvalue > alpha:\n",
    "    print('Не получилост отвергнуть нулевую гипотезу. Мы не обнаружили статистически значимую разницу. ')\n",
    "else:\n",
    "    print('Отвергаем нулевую гипотезу. Между данными есть статистически значимая разница')\n",
    "    \n",
    "print(result)"
   ]
  },
  {
   "cell_type": "code",
   "execution_count": 25,
   "id": "01becd8b-9d11-4915-8455-b9bc36401b24",
   "metadata": {},
   "outputs": [],
   "source": [
    "# давайте на всякий случай, из-за сложности формулировки в нулевой гипотезе проверим наш тест\n",
    "\n",
    "# согласно нулевой гипотезе, веротность того, что CTR из выборки 1 в 50% случаев будет больше CTR из выборки 2\n",
    "A_B_groups = 0\n",
    "\n",
    "for _ in range(10000):\n",
    "    A_B_groups += np.random.choice(ctr1) > np.random.choice(ctr2)"
   ]
  },
  {
   "cell_type": "code",
   "execution_count": 27,
   "id": "573f970b-4c75-468b-b176-3d62819ee360",
   "metadata": {},
   "outputs": [
    {
     "name": "stdout",
     "output_type": "stream",
     "text": [
      "В 97.85% случаев 1 группа > 2 группы. Должно быть 50%\n"
     ]
    }
   ],
   "source": [
    "# подсчитаем наши значения\n",
    "\n",
    "print(f'В {A_B_groups/100}% случаев 1 группа > 2 группы. Должно быть 50%')  "
   ]
  },
  {
   "cell_type": "markdown",
   "id": "a01b8a18-0cf3-4e93-b229-c867b273ea42",
   "metadata": {
    "jp-MarkdownHeadingCollapsed": true,
    "tags": []
   },
   "source": [
    "## Вывод"
   ]
  },
  {
   "cell_type": "markdown",
   "id": "c5525e99-ff39-442c-b86c-a46ec725d528",
   "metadata": {},
   "source": [
    "Мы провели три статистических теста и вот резуьтат:\n",
    " - **t-тест** не нашел статистически значимую разницу между нашими данными, но его результаты поддаются сомнению, поскольку он расчитывает средние наших выборок, а на графике мы могли видеть, что наши распределению отнють не нормальны. В них присутствуют выбросы, которые могут негативно повлиять на результаты теста;\n",
    " - Основываясь на том, что наши данные распределенны не нормально, мы решили провести другой тест - а именно **теста Манаа-Уитни**, который на наш взгляд более подходит для данной ситуации. Результаты теста показали, что между данными есть статистически значимая разница и очень низкий p-value. Но здесь нам смутило, то, что очень сложно сформулировать нулевую гипотезу, которая утверждает, что если взять случайную величину из группы А и случайную величину из группы В, то вероятность, что значение из группы А будет больше, чем в группе В --> и наоборот. Основываясь на формулировки гипотезы, мы случайно взяли из наших выборок 10000 значений и сравнили их и получили, что в 53% А > В. И вот тут закроилось сомнение, ведь 53% не так уж много на первый взгля. Поэтому мы решили провести третий тест;\n",
    " - третим тестом мы выбрали **Непараметрический бутсреп** в котором **сравнили групповой CTR t-тестом и тестом Манна-Уитни** где оба теста показали **p-value=0** и где оба теста соответственно отвергли нулевую гипотезу. Более того, сравнивая случайно взятые величины из двух подгрупп, В **97.85% случаев А группа > В группы**.\n"
   ]
  },
  {
   "cell_type": "markdown",
   "id": "156c4de7-037d-4d8e-bba0-66bdecbc036b",
   "metadata": {},
   "source": [
    "## Результаты АВ-теста"
   ]
  },
  {
   "cell_type": "markdown",
   "id": "2757b7c4-a43d-4ff3-88eb-4ea978bce68a",
   "metadata": {},
   "source": [
    "Мы провели несколько статистических тестов и выявили, что среди наших групп есть статистически значимая разница:\n",
    "> **общегрупповой CTR в целевой группе стал хуже чем в контрольной группе. Вследствии чего я бы не рекомендовал раскатывать данный алгоритм на всех новых пользователей.**"
   ]
  }
 ],
 "metadata": {
  "kernelspec": {
   "display_name": "Python 3 (ipykernel)",
   "language": "python",
   "name": "python3"
  },
  "language_info": {
   "codemirror_mode": {
    "name": "ipython",
    "version": 3
   },
   "file_extension": ".py",
   "mimetype": "text/x-python",
   "name": "python",
   "nbconvert_exporter": "python",
   "pygments_lexer": "ipython3",
   "version": "3.10.9"
  }
 },
 "nbformat": 4,
 "nbformat_minor": 5
}
